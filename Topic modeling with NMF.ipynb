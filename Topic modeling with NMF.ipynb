{
 "cells": [
  {
   "cell_type": "code",
   "execution_count": 1,
   "metadata": {},
   "outputs": [],
   "source": [
    "# Importing Necessary packages\n",
    "\n",
    "import numpy as np\n",
    " \n",
    "from sklearn.datasets import fetch_20newsgroups\n",
    " \n",
    "from sklearn.feature_extraction.text import TfidfVectorizer\n",
    " \n",
    "from sklearn.decomposition import NMF"
   ]
  },
  {
   "cell_type": "code",
   "execution_count": 6,
   "metadata": {},
   "outputs": [
    {
     "data": {
      "text/plain": [
       "['I was wondering if anyone out there could enlighten me on this car I saw\\nthe other day. It was a 2-door sports car, looked to be from the late 60s/\\nearly 70s. It was called a Bricklin. The doors were really small. In addition,\\nthe front bumper was separate from the rest of the body. This is \\nall I know. If anyone can tellme a model name, engine specs, years\\nof production, where this car is made, history, or whatever info you\\nhave on this funky looking car, please e-mail.',\n",
       " \"A fair number of brave souls who upgraded their SI clock oscillator have\\nshared their experiences for this poll. Please send a brief message detailing\\nyour experiences with the procedure. Top speed attained, CPU rated speed,\\nadd on cards and adapters, heat sinks, hour of usage per day, floppy disk\\nfunctionality with 800 and 1.4 m floppies are especially requested.\\n\\nI will be summarizing in the next two days, so please add to the network\\nknowledge base if you have done the clock upgrade and haven't answered this\\npoll. Thanks.\",\n",
       " 'well folks, my mac plus finally gave up the ghost this weekend after\\nstarting life as a 512k way back in 1985.  sooo, i\\'m in the market for a\\nnew machine a bit sooner than i intended to be...\\n\\ni\\'m looking into picking up a powerbook 160 or maybe 180 and have a bunch\\nof questions that (hopefully) somebody can answer:\\n\\n* does anybody know any dirt on when the next round of powerbook\\nintroductions are expected?  i\\'d heard the 185c was supposed to make an\\nappearence \"this summer\" but haven\\'t heard anymore on it - and since i\\ndon\\'t have access to macleak, i was wondering if anybody out there had\\nmore info...\\n\\n* has anybody heard rumors about price drops to the powerbook line like the\\nones the duo\\'s just went through recently?\\n\\n* what\\'s the impression of the display on the 180?  i could probably swing\\na 180 if i got the 80Mb disk rather than the 120, but i don\\'t really have\\na feel for how much \"better\" the display is (yea, it looks great in the\\nstore, but is that all \"wow\" or is it really that good?).  could i solicit\\nsome opinions of people who use the 160 and 180 day-to-day on if its worth\\ntaking the disk size and money hit to get the active display?  (i realize\\nthis is a real subjective question, but i\\'ve only played around with the\\nmachines in a computer store breifly and figured the opinions of somebody\\nwho actually uses the machine daily might prove helpful).\\n\\n* how well does hellcats perform?  ;)\\n\\nthanks a bunch in advance for any info - if you could email, i\\'ll post a\\nsummary (news reading time is at a premium with finals just around the\\ncorner... :( )\\n--\\nTom Willis  \\\\  twillis@ecn.purdue.edu    \\\\    Purdue Electrical Engineering']"
      ]
     },
     "execution_count": 6,
     "metadata": {},
     "output_type": "execute_result"
    }
   ],
   "source": [
    "# Importing Data\n",
    "text_data= fetch_20newsgroups(remove=('headers', 'footers', 'quotes')).data\n",
    "text_data[:3]"
   ]
  },
  {
   "cell_type": "code",
   "execution_count": 12,
   "metadata": {},
   "outputs": [
    {
     "name": "stdout",
     "output_type": "stream",
     "text": [
      "  (0, 1472)\t0.18550765645757622\n",
      "  (0, 278)\t0.6305581416061171\n",
      "  (0, 1191)\t0.17201525862610717\n",
      "  (0, 411)\t0.1424921558904033\n",
      "  (0, 469)\t0.20099797303395192\n",
      "  (0, 808)\t0.183033665833931\n",
      "  (0, 767)\t0.18711856186440218\n",
      "  (0, 484)\t0.1714763727922697\n",
      "  (0, 273)\t0.14279390121865665\n",
      "  (0, 1118)\t0.12154002727766958\n",
      "  (0, 1256)\t0.15350324219124503\n",
      "  (0, 128)\t0.190572546028195\n",
      "  (0, 1218)\t0.19781957502373115\n",
      "  (0, 1158)\t0.16511514318854434\n",
      "  (0, 247)\t0.17513150125349705\n",
      "  (0, 757)\t0.09424560560725694\n",
      "  (0, 887)\t0.176487811904008\n",
      "  (0, 506)\t0.1941399556509409\n",
      "  (0, 1495)\t0.1274990882101728\n",
      "  (0, 672)\t0.169271507288906\n",
      "  (0, 707)\t0.16068505607893965\n",
      "  (0, 809)\t0.1439640091285723\n",
      "  (0, 829)\t0.1359651513113477\n",
      "  (1, 411)\t0.14622796373696134\n",
      "  (1, 546)\t0.20534935893537723\n",
      "  :\t:\n",
      "  (11312, 1486)\t0.183845539553728\n",
      "  (11312, 1409)\t0.2006451645457405\n",
      "  (11312, 926)\t0.2458009890045144\n",
      "  (11312, 1100)\t0.1839292570975713\n",
      "  (11312, 1276)\t0.39611960235510485\n",
      "  (11312, 1302)\t0.2391477981479836\n",
      "  (11312, 647)\t0.21811161764585577\n",
      "  (11312, 1027)\t0.45507155319966874\n",
      "  (11312, 1482)\t0.20312993164016085\n",
      "  (11312, 554)\t0.17342348749746125\n",
      "  (11312, 1146)\t0.23023119359417377\n",
      "  (11312, 534)\t0.24057688665286514\n",
      "  (11313, 506)\t0.2732544408814576\n",
      "  (11313, 950)\t0.38841024980735567\n",
      "  (11313, 801)\t0.18133646100428719\n",
      "  (11313, 18)\t0.20991004117190362\n",
      "  (11313, 666)\t0.18286797664790702\n",
      "  (11313, 637)\t0.22561030228734125\n",
      "  (11313, 46)\t0.4263227148758932\n",
      "  (11313, 1394)\t0.238785899543691\n",
      "  (11313, 272)\t0.2725556981757495\n",
      "  (11313, 1225)\t0.30171113023356894\n",
      "  (11313, 1219)\t0.26985268594168194\n",
      "  (11313, 1457)\t0.24327295967949422\n",
      "  (11313, 244)\t0.27766069716692826\n",
      "X= ['00' '000' '01' ... 'york' 'young' 'zip']\n"
     ]
    }
   ],
   "source": [
    "# converting the given text term-document matrix\n",
    " \n",
    "vectorizer = TfidfVectorizer(max_features=1500, min_df=10, stop_words='english')\n",
    " \n",
    "X = vectorizer.fit_transform(text_data)\n",
    " \n",
    "words = np.array(vectorizer.get_feature_names())\n",
    "print(X)\n",
    "print(\"X=\",words)"
   ]
  },
  {
   "cell_type": "code",
   "execution_count": 13,
   "metadata": {},
   "outputs": [],
   "source": [
    "# Applying Non-Negative Matrix Factorization\n",
    " \n",
    "nmf = NMF(n_components=10, solver=\"mu\")\n",
    " \n",
    "W = nmf.fit_transform(X)\n",
    " \n",
    "H = nmf.components_"
   ]
  },
  {
   "cell_type": "code",
   "execution_count": 14,
   "metadata": {},
   "outputs": [
    {
     "name": "stdout",
     "output_type": "stream",
     "text": [
      "Topic 1: really,people,ve,time,good,know,think,like,just,don\n",
      "Topic 2: info,help,looking,card,hi,know,advance,mail,does,thanks\n",
      "Topic 3: church,does,christians,christian,faith,believe,christ,bible,jesus,god\n",
      "Topic 4: league,win,hockey,play,players,season,year,games,team,game\n",
      "Topic 5: bus,floppy,card,controller,ide,hard,drives,disk,scsi,drive\n",
      "Topic 6: 20,price,condition,shipping,offer,space,10,sale,new,00\n",
      "Topic 7: problem,running,using,use,program,files,window,dos,file,windows\n",
      "Topic 8: law,use,algorithm,escrow,government,keys,clipper,encryption,chip,key\n",
      "Topic 9: state,war,turkish,armenians,government,armenian,jews,israeli,israel,people\n",
      "Topic 10: email,internet,pub,article,ftp,com,university,cs,soon,edu\n"
     ]
    }
   ],
   "source": [
    "for i, topic in enumerate(H):\n",
    " \n",
    "    print(\"Topic {}: {}\".format(i + 1, \",\".join([str(x) for x in idx_to_word[topic.argsort()[-10:]]])))"
   ]
  },
  {
   "cell_type": "code",
   "execution_count": 19,
   "metadata": {},
   "outputs": [
    {
     "name": "stdout",
     "output_type": "stream",
     "text": [
      "[[3.14912746e-02 2.94542038e-02 0.00000000e+00 3.33333245e-03\n",
      "  0.00000000e+00 0.00000000e+00 0.00000000e+00 0.00000000e+00\n",
      "  0.00000000e+00 0.00000000e+00]\n",
      " [6.20557576e-03 2.95497861e-02 1.07989433e-08 5.19817369e-04\n",
      "  3.18118742e-02 8.04393768e-03 0.00000000e+00 4.99785893e-03\n",
      "  2.82899920e-08 2.95957405e-04]\n",
      " [6.57082024e-02 6.11330960e-02 0.00000000e+00 8.18622592e-03\n",
      "  0.00000000e+00 0.00000000e+00 0.00000000e+00 0.00000000e+00\n",
      "  0.00000000e+00 0.00000000e+00]\n",
      " [3.51420347e-03 2.70163687e-02 0.00000000e+00 0.00000000e+00\n",
      "  0.00000000e+00 2.25431949e-02 0.00000000e+00 8.78948967e-02\n",
      "  0.00000000e+00 4.75400023e-17]\n",
      " [3.43312512e-02 6.34924081e-04 3.12610965e-03 0.00000000e+00\n",
      "  0.00000000e+00 2.41521383e-02 1.04304968e-02 0.00000000e+00\n",
      "  0.00000000e+00 1.10050280e-02]\n",
      " [1.54660994e-02 0.00000000e+00 3.72488017e-03 0.00000000e+00\n",
      "  2.73645855e-10 3.59298123e-03 8.25479272e-03 0.00000000e+00\n",
      "  1.79357458e-02 3.97412464e-03]\n",
      " [7.64105742e-03 6.41034640e-02 3.08040695e-04 2.52852526e-03\n",
      "  0.00000000e+00 5.67481009e-03 0.00000000e+00 0.00000000e+00\n",
      "  2.12149007e-02 4.17234324e-03]\n",
      " [3.82228411e-06 4.61324341e-03 7.97294716e-04 4.09126211e-16\n",
      "  1.14143186e-01 8.85463161e-14 0.00000000e+00 2.46322282e-02\n",
      "  3.40868134e-10 9.93388291e-03]\n",
      " [6.82290844e-03 3.30921856e-02 3.72126238e-13 0.00000000e+00\n",
      "  0.00000000e+00 0.00000000e+00 2.34432917e-02 6.82657581e-03\n",
      "  0.00000000e+00 8.26367144e-26]\n",
      " [1.66278665e-02 1.49004923e-02 8.12493228e-04 0.00000000e+00\n",
      "  2.19571524e-02 0.00000000e+00 3.76332208e-02 0.00000000e+00\n",
      "  1.05384042e-13 2.72822173e-09]]\n"
     ]
    }
   ],
   "source": [
    "print(W[:10,:10])"
   ]
  },
  {
   "cell_type": "code",
   "execution_count": 20,
   "metadata": {},
   "outputs": [
    {
     "name": "stdout",
     "output_type": "stream",
     "text": [
      "[[1.81147375e-17 1.26182249e-02 2.93518811e-05 1.08240436e-02\n",
      "  6.18732299e-07 1.27435805e-05 9.91130274e-09 1.12246344e-05\n",
      "  4.51400032e-69 3.01041384e-54]\n",
      " [2.21534787e-12 0.00000000e+00 1.33321050e-09 2.96731084e-12\n",
      "  2.65374551e-03 3.91087884e-04 2.98944644e-04 6.24554050e-10\n",
      "  9.53864192e-31 2.71257642e-38]\n",
      " [0.00000000e+00 0.00000000e+00 0.00000000e+00 0.00000000e+00\n",
      "  0.00000000e+00 0.00000000e+00 0.00000000e+00 0.00000000e+00\n",
      "  0.00000000e+00 0.00000000e+00]\n",
      " [6.31863318e-11 4.40713132e-02 1.77561863e-03 2.19458585e-03\n",
      "  2.15120339e-03 2.61656616e-06 2.14906622e-03 2.30356588e-04\n",
      "  3.83769479e-08 1.28390795e-07]\n",
      " [3.98775665e-13 4.07296556e-03 0.00000000e+00 9.13681465e-03\n",
      "  0.00000000e+00 0.00000000e+00 4.33946044e-03 0.00000000e+00\n",
      "  1.28457487e-09 2.25454495e-11]\n",
      " [1.00421506e+00 2.39129457e-01 8.01133515e-02 5.32229171e-02\n",
      "  3.68883911e-02 7.27891875e-02 4.50046335e-02 4.26041069e-02\n",
      "  4.65075342e-03 2.51480151e-03]\n",
      " [0.00000000e+00 0.00000000e+00 2.17982651e-02 0.00000000e+00\n",
      "  1.39930214e-02 2.16749467e-03 5.63322037e-03 5.80672290e-03\n",
      "  2.53163039e-09 1.44639785e-12]\n",
      " [0.00000000e+00 0.00000000e+00 0.00000000e+00 0.00000000e+00\n",
      "  0.00000000e+00 0.00000000e+00 0.00000000e+00 0.00000000e+00\n",
      "  0.00000000e+00 5.91572323e-48]\n",
      " [4.57542154e-25 1.70222212e-01 3.93768012e-13 7.92462721e-03\n",
      "  6.35542835e-18 0.00000000e+00 9.92275634e-20 4.14373758e-10\n",
      "  3.70248624e-47 7.69329108e-42]\n",
      " [0.00000000e+00 0.00000000e+00 0.00000000e+00 1.18348660e-02\n",
      "  1.90271384e-02 0.00000000e+00 7.34412936e-03 0.00000000e+00\n",
      "  0.00000000e+00 0.00000000e+00]]\n"
     ]
    }
   ],
   "source": [
    "print(H[:10, :10])"
   ]
  },
  {
   "cell_type": "code",
   "execution_count": null,
   "metadata": {},
   "outputs": [],
   "source": []
  }
 ],
 "metadata": {
  "kernelspec": {
   "display_name": "Python 3",
   "language": "python",
   "name": "python3"
  },
  "language_info": {
   "codemirror_mode": {
    "name": "ipython",
    "version": 3
   },
   "file_extension": ".py",
   "mimetype": "text/x-python",
   "name": "python",
   "nbconvert_exporter": "python",
   "pygments_lexer": "ipython3",
   "version": "3.7.3"
  }
 },
 "nbformat": 4,
 "nbformat_minor": 2
}
